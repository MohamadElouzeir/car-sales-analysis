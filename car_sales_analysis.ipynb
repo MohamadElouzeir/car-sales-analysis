{
 "cells": [
  {
   "cell_type": "markdown",
   "id": "cea8c943-a78b-43cf-905f-30f50f1e73c0",
   "metadata": {},
   "source": [
    "# Car Sales Analysis\n",
    "\n",
    "This project analyzes car sales data to uncover patterns and insights in the automobile market.  \n",
    "The analysis includes data cleaning, exploratory data analysis (EDA), and visualizations to highlight key trends such as popular brands, price distributions, and the effect of factors like fuel type and transmission.  \n"
   ]
  },
  {
   "cell_type": "code",
   "execution_count": 8,
   "id": "0a594fd6-81f6-4584-9009-d326669bad82",
   "metadata": {},
   "outputs": [
    {
     "data": {
      "text/html": [
       "<div>\n",
       "<style scoped>\n",
       "    .dataframe tbody tr th:only-of-type {\n",
       "        vertical-align: middle;\n",
       "    }\n",
       "\n",
       "    .dataframe tbody tr th {\n",
       "        vertical-align: top;\n",
       "    }\n",
       "\n",
       "    .dataframe thead th {\n",
       "        text-align: right;\n",
       "    }\n",
       "</style>\n",
       "<table border=\"1\" class=\"dataframe\">\n",
       "  <thead>\n",
       "    <tr style=\"text-align: right;\">\n",
       "      <th></th>\n",
       "      <th>name</th>\n",
       "      <th>year</th>\n",
       "      <th>selling_price</th>\n",
       "      <th>km_driven</th>\n",
       "      <th>fuel</th>\n",
       "      <th>seller_type</th>\n",
       "      <th>transmission</th>\n",
       "      <th>owner</th>\n",
       "    </tr>\n",
       "  </thead>\n",
       "  <tbody>\n",
       "    <tr>\n",
       "      <th>0</th>\n",
       "      <td>Maruti 800 AC</td>\n",
       "      <td>2007</td>\n",
       "      <td>60000</td>\n",
       "      <td>70000</td>\n",
       "      <td>Petrol</td>\n",
       "      <td>Individual</td>\n",
       "      <td>Manual</td>\n",
       "      <td>First Owner</td>\n",
       "    </tr>\n",
       "    <tr>\n",
       "      <th>1</th>\n",
       "      <td>Maruti Wagon R LXI Minor</td>\n",
       "      <td>2007</td>\n",
       "      <td>135000</td>\n",
       "      <td>50000</td>\n",
       "      <td>Petrol</td>\n",
       "      <td>Individual</td>\n",
       "      <td>Manual</td>\n",
       "      <td>First Owner</td>\n",
       "    </tr>\n",
       "    <tr>\n",
       "      <th>2</th>\n",
       "      <td>Hyundai Verna 1.6 SX</td>\n",
       "      <td>2012</td>\n",
       "      <td>600000</td>\n",
       "      <td>100000</td>\n",
       "      <td>Diesel</td>\n",
       "      <td>Individual</td>\n",
       "      <td>Manual</td>\n",
       "      <td>First Owner</td>\n",
       "    </tr>\n",
       "    <tr>\n",
       "      <th>3</th>\n",
       "      <td>Datsun RediGO T Option</td>\n",
       "      <td>2017</td>\n",
       "      <td>250000</td>\n",
       "      <td>46000</td>\n",
       "      <td>Petrol</td>\n",
       "      <td>Individual</td>\n",
       "      <td>Manual</td>\n",
       "      <td>First Owner</td>\n",
       "    </tr>\n",
       "    <tr>\n",
       "      <th>4</th>\n",
       "      <td>Honda Amaze VX i-DTEC</td>\n",
       "      <td>2014</td>\n",
       "      <td>450000</td>\n",
       "      <td>141000</td>\n",
       "      <td>Diesel</td>\n",
       "      <td>Individual</td>\n",
       "      <td>Manual</td>\n",
       "      <td>Second Owner</td>\n",
       "    </tr>\n",
       "  </tbody>\n",
       "</table>\n",
       "</div>"
      ],
      "text/plain": [
       "                       name  year  selling_price  km_driven    fuel  \\\n",
       "0             Maruti 800 AC  2007          60000      70000  Petrol   \n",
       "1  Maruti Wagon R LXI Minor  2007         135000      50000  Petrol   \n",
       "2      Hyundai Verna 1.6 SX  2012         600000     100000  Diesel   \n",
       "3    Datsun RediGO T Option  2017         250000      46000  Petrol   \n",
       "4     Honda Amaze VX i-DTEC  2014         450000     141000  Diesel   \n",
       "\n",
       "  seller_type transmission         owner  \n",
       "0  Individual       Manual   First Owner  \n",
       "1  Individual       Manual   First Owner  \n",
       "2  Individual       Manual   First Owner  \n",
       "3  Individual       Manual   First Owner  \n",
       "4  Individual       Manual  Second Owner  "
      ]
     },
     "execution_count": 8,
     "metadata": {},
     "output_type": "execute_result"
    }
   ],
   "source": [
    "import pandas as pd\n",
    "\n",
    "# Load dataset\n",
    "df = pd.read_csv(\"car_dekho_cars.csv\")\n",
    "\n",
    "# check first 5 rows\n",
    "df.head()\n"
   ]
  },
  {
   "cell_type": "code",
   "execution_count": 25,
   "id": "4ea6da31-26f1-419a-8185-0c8db6e50bdb",
   "metadata": {},
   "outputs": [
    {
     "name": "stdout",
     "output_type": "stream",
     "text": [
      "<class 'pandas.core.frame.DataFrame'>\n",
      "RangeIndex: 4340 entries, 0 to 4339\n",
      "Data columns (total 8 columns):\n",
      " #   Column         Non-Null Count  Dtype \n",
      "---  ------         --------------  ----- \n",
      " 0   name           4340 non-null   object\n",
      " 1   year           4340 non-null   int64 \n",
      " 2   selling_price  4340 non-null   int64 \n",
      " 3   km_driven      4340 non-null   int64 \n",
      " 4   fuel           4340 non-null   object\n",
      " 5   seller_type    4340 non-null   object\n",
      " 6   transmission   4340 non-null   object\n",
      " 7   owner          4340 non-null   object\n",
      "dtypes: int64(3), object(5)\n",
      "memory usage: 271.4+ KB\n",
      "\n",
      "Duplicated rows: 763\n",
      "\n",
      "Missing values per column:\n"
     ]
    },
    {
     "data": {
      "text/plain": [
       "name             0\n",
       "year             0\n",
       "selling_price    0\n",
       "km_driven        0\n",
       "fuel             0\n",
       "seller_type      0\n",
       "transmission     0\n",
       "owner            0\n",
       "dtype: int64"
      ]
     },
     "execution_count": 25,
     "metadata": {},
     "output_type": "execute_result"
    }
   ],
   "source": [
    "# Checking info & size & types\n",
    "df.info()\n",
    "\n",
    "# checking for duplicates\n",
    "print(\"\\nDuplicated rows:\",df.duplicated().sum())\n",
    "\n",
    "# Count missing (NaN) values per column\n",
    "print(\"\\nMissing values per column:\")\n",
    "df.isnull().sum()"
   ]
  },
  {
   "cell_type": "code",
   "execution_count": 28,
   "id": "5f249a09-ec58-4fb3-853b-3c288a8cee52",
   "metadata": {},
   "outputs": [
    {
     "name": "stdout",
     "output_type": "stream",
     "text": [
      "Duplicates after cleaning: 0\n",
      "New shape: (3577, 8)\n"
     ]
    }
   ],
   "source": [
    "# removing duplicates\n",
    "df = df.drop_duplicates()\n",
    "\n",
    "print(\"Duplicates after cleaning:\", df.duplicated().sum())\n",
    "print(\"New shape:\", df.shape)\n"
   ]
  },
  {
   "cell_type": "code",
   "execution_count": 43,
   "id": "15946f0b-240b-4333-998a-e33aafed6a21",
   "metadata": {},
   "outputs": [
    {
     "name": "stdout",
     "output_type": "stream",
     "text": [
      "Unique car names: 1491\n",
      "\n",
      " name\n",
      "Maruti Swift Dzire VDI      54\n",
      "Maruti Alto 800 LXI         48\n",
      "Maruti Alto LXi             42\n",
      "Maruti Alto LX              30\n",
      "Maruti Swift VDI BSIV       28\n",
      "Hyundai EON Era Plus        28\n",
      "Maruti Wagon R VXI BS IV    26\n",
      "Maruti Swift VDI            23\n",
      "Maruti Wagon R LXI Minor    21\n",
      "Hyundai Santro Xing GLS     20\n",
      "Name: count, dtype: int64\n",
      "\n",
      " brand\n",
      "Maruti        1072\n",
      "Hyundai        637\n",
      "Mahindra       328\n",
      "Tata           308\n",
      "Ford           220\n",
      "Honda          216\n",
      "Toyota         170\n",
      "Chevrolet      151\n",
      "Renault        110\n",
      "Volkswagen      93\n",
      "Name: count, dtype: int64\n"
     ]
    }
   ],
   "source": [
    "# how many unique car names\n",
    "print(\"Unique car names:\",df['name'].nunique())\n",
    "\n",
    "# common car names\n",
    "print(\"\\n\",df['name'].value_counts().head(10))\n",
    "\n",
    "# Create a new column \"brand\" by taking the first word from 'name'\n",
    "df['brand'] = df['name'].str.split().str[0]\n",
    "\n",
    "# Check top 10 most common brands\n",
    "print(\"\\n\",df['brand'].value_counts().head(10))\n"
   ]
  },
  {
   "cell_type": "code",
   "execution_count": 53,
   "id": "167551b1-b952-47df-a02e-5497f6172516",
   "metadata": {},
   "outputs": [
    {
     "name": "stdout",
     "output_type": "stream",
     "text": [
      "count      3577\n",
      "mean     473913\n",
      "std      509302\n",
      "min       20000\n",
      "25%      200000\n",
      "50%      350000\n",
      "75%      600000\n",
      "max     8900000\n",
      "Name: selling_price, dtype: float64\n"
     ]
    }
   ],
   "source": [
    "import numpy as np\n",
    "\n",
    "# prevent scientific notation in pandas\n",
    "pd.set_option('display.float_format', '{:.0f}'.format)\n",
    "\n",
    "# summary stats\n",
    "print(df['selling_price'].describe())\n"
   ]
  },
  {
   "cell_type": "code",
   "execution_count": null,
   "id": "37a7bf20-72c1-43ed-86a7-3cc13ea5478e",
   "metadata": {},
   "outputs": [],
   "source": []
  }
 ],
 "metadata": {
  "kernelspec": {
   "display_name": "Python 3 (ipykernel)",
   "language": "python",
   "name": "python3"
  },
  "language_info": {
   "codemirror_mode": {
    "name": "ipython",
    "version": 3
   },
   "file_extension": ".py",
   "mimetype": "text/x-python",
   "name": "python",
   "nbconvert_exporter": "python",
   "pygments_lexer": "ipython3",
   "version": "3.8.10"
  }
 },
 "nbformat": 4,
 "nbformat_minor": 5
}
